{
  "nbformat": 4,
  "nbformat_minor": 0,
  "metadata": {
    "colab": {
      "provenance": [],
      "authorship_tag": "ABX9TyNPdmqlJLzbXdfItqRHUxn7",
      "include_colab_link": true
    },
    "kernelspec": {
      "name": "python3",
      "display_name": "Python 3"
    },
    "language_info": {
      "name": "python"
    }
  },
  "cells": [
    {
      "cell_type": "markdown",
      "metadata": {
        "id": "view-in-github",
        "colab_type": "text"
      },
      "source": [
        "<a href=\"https://colab.research.google.com/github/Shiva0909122/COVID-19-Data-Analysis-and-Visualization/blob/main/contact_management_system.ipynb\" target=\"_parent\"><img src=\"https://colab.research.google.com/assets/colab-badge.svg\" alt=\"Open In Colab\"/></a>"
      ]
    },
    {
      "cell_type": "code",
      "execution_count": null,
      "metadata": {
        "id": "j8cuffA9wlKw",
        "colab": {
          "base_uri": "https://localhost:8080/"
        },
        "outputId": "e53f9027-841c-4b78-d074-53812a7d824b"
      },
      "outputs": [
        {
          "output_type": "stream",
          "name": "stdout",
          "text": [
            "1. Add Contact\n",
            "2. Search Contact\n",
            "3. Display Contacts\n",
            "4. Exit\n",
            "Choose an option: 1\n",
            "Enter Name: shivarth\n",
            "Enter Phone Number: 7981502710\n",
            "Enter Email: shivarth@gmail.com\n",
            "Contact shivarth added successfully!\n",
            "\n",
            "1. Add Contact\n",
            "2. Search Contact\n",
            "3. Display Contacts\n",
            "4. Exit\n",
            "Choose an option: 3\n",
            "Name: shivarth, Phone: 7981502710, Email: shivarth@gmail.com\n",
            "\n",
            "1. Add Contact\n",
            "2. Search Contact\n",
            "3. Display Contacts\n",
            "4. Exit\n",
            "Choose an option: 4\n",
            "Exiting... Goodbye!\n"
          ]
        }
      ],
      "source": [
        "def add_contact(contacts):\n",
        "    name = input(\"Enter Name: \")\n",
        "    phone = input(\"Enter Phone Number: \")\n",
        "    email = input(\"Enter Email: \")\n",
        "    contacts[name] = {\"Phone\": phone, \"Email\": email}\n",
        "    print(f\"Contact {name} added successfully!\\n\")\n",
        "\n",
        "def search_contact(contacts):\n",
        "    name = input(\"Enter Name to Search: \")\n",
        "    if name in contacts:\n",
        "        print(f\"Name: {name}\")\n",
        "        print(f\"Phone: {contacts[name]['Phone']}\")\n",
        "        print(f\"Email: {contacts[name]['Email']}\\n\")\n",
        "    else:\n",
        "        print(\"Contact not found!\\n\")\n",
        "\n",
        "def display_contacts(contacts):\n",
        "    if contacts:\n",
        "        for name, details in contacts.items():\n",
        "            print(f\"Name: {name}, Phone: {details['Phone']}, Email: {details['Email']}\")\n",
        "        print()\n",
        "    else:\n",
        "        print(\"No contacts available!\\n\")\n",
        "\n",
        "def main():\n",
        "    contacts = {}\n",
        "    while True:\n",
        "        print(\"1. Add Contact\")\n",
        "        print(\"2. Search Contact\")\n",
        "        print(\"3. Display Contacts\")\n",
        "        print(\"4. Exit\")\n",
        "        choice = input(\"Choose an option: \")\n",
        "\n",
        "        if choice == \"1\":\n",
        "            add_contact(contacts)\n",
        "        elif choice == \"2\":\n",
        "            search_contact(contacts)\n",
        "        elif choice == \"3\":\n",
        "            display_contacts(contacts)\n",
        "        elif choice == \"4\":\n",
        "            print(\"Exiting... Goodbye!\")\n",
        "            break\n",
        "        else:\n",
        "            print(\"Invalid choice! Try again.\\n\")\n",
        "\n",
        "if __name__ == \"__main__\":\n",
        "    main()\n"
      ]
    }
  ]
}